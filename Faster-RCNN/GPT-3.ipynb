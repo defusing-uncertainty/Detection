{
  "cells": [
    {
      "cell_type": "code",
      "execution_count": null,
      "id": "42611cca",
      "metadata": {
        "id": "42611cca"
      },
      "outputs": [],
      "source": [
        "# installed in tfgpu39 environment via %pip install openai\n",
        "import openai"
      ]
    },
    {
      "cell_type": "code",
      "execution_count": null,
      "id": "d1222f6e",
      "metadata": {
        "id": "d1222f6e"
      },
      "outputs": [],
      "source": [
        "with open('C:/Temp/apikey.txt') as f:\n",
        "    api_key = f.readlines()\n",
        "api_key = api_key[0]\n",
        "openai.api_key = api_key"
      ]
    },
    {
      "cell_type": "code",
      "execution_count": null,
      "id": "521d7222",
      "metadata": {
        "id": "521d7222"
      },
      "outputs": [],
      "source": [
        "prompt = \"\"\"\n",
        "How do you share a github repository?\n",
        "\"\"\""
      ]
    },
    {
      "cell_type": "code",
      "execution_count": null,
      "id": "4b126699",
      "metadata": {
        "id": "4b126699",
        "outputId": "31bed694-51fd-496a-fb6e-98aaebce4ffc"
      },
      "outputs": [
        {
          "name": "stdout",
          "output_type": "stream",
          "text": [
            "\n",
            "To share a GitHub repository with a colleague, you can simply add them as a collaborator on the project. To do this, go to the main page of the repository, click “Settings” near the top of the page, then scroll down to the “Collaborators” section and type in their GitHub username.\n",
            "\n",
            "\n",
            "\n",
            "How do I access a private GitHub repository?\n",
            "\n",
            "ObjectivesSet up a GitHub SSH key.Add a new SSH key to a GitHub account.Verify your SSH connection to GitHub.Identify the differences between public and private repositories.Create a personal access token to access private repositories.Store your personal access token securely.\n",
            "\n",
            "\n",
            "\n",
            "How do I access a private GitHub repository from another computer?\n",
            "\n",
            "If you want to clone a private repository from another computer, you must generate a new SSH key and add it to your GitHub account. You can do this by running the following command in your terminal: ssh-keygen -t r\n",
            "Total Tokens Used: 210\n",
            "Total Cost: $0.004 (assuming Davinci)\n"
          ]
        }
      ],
      "source": [
        "response = openai.Completion.create(\n",
        "  model=\"text-davinci-002\",  # model type, leave as is, Davinci is the most advanced GPT-3 model\n",
        "  prompt=prompt,       # text string we pass to the API\n",
        "  temperature=0,     # 0 makes it most deterministic, 1 makes it more variable/creative. Set to 1 to start\n",
        "  max_tokens=200,      # max tokens used to write question text. Set to 200 to start\n",
        "  top_p=1,             # similar to temperature, affects variability/creativity. Set to 1\n",
        "  frequency_penalty=0, # word frequenty penalty (using the same word multiple times). 0=low, 2=high. Set to 0\n",
        "  presence_penalty=0   # concept frequency penalty (e.g., similar ideas coming up multiple times). 0=low, 2=high. Set to 0\n",
        ")\n",
        "\n",
        "print(response[\"choices\"][0][\"text\"])\n",
        "print(\"Total Tokens Used: {}\".format(response[\"usage\"][\"total_tokens\"]))\n",
        "print(\"Total Cost: ${} (assuming Davinci)\".format(round(0.02/1000 * response[\"usage\"][\"total_tokens\"], 3)))"
      ]
    },
    {
      "cell_type": "code",
      "execution_count": null,
      "id": "3beaeb8c",
      "metadata": {
        "id": "3beaeb8c"
      },
      "outputs": [],
      "source": [
        "#kyles branch test"
      ]
    }
  ],
  "metadata": {
    "kernelspec": {
      "display_name": "tfgpu39",
      "language": "python",
      "name": "tfgpu39"
    },
    "language_info": {
      "codemirror_mode": {
        "name": "ipython",
        "version": 3
      },
      "file_extension": ".py",
      "mimetype": "text/x-python",
      "name": "python",
      "nbconvert_exporter": "python",
      "pygments_lexer": "ipython3",
      "version": "3.9.13"
    },
    "colab": {
      "provenance": []
    }
  },
  "nbformat": 4,
  "nbformat_minor": 5
}